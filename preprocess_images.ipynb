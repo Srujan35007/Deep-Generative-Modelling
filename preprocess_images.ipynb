{
  "nbformat": 4,
  "nbformat_minor": 0,
  "metadata": {
    "colab": {
      "name": "test",
      "provenance": [],
      "collapsed_sections": []
    },
    "kernelspec": {
      "name": "python3",
      "display_name": "Python 3"
    },
    "widgets": {
      "application/vnd.jupyter.widget-state+json": {
        "9da22a5758e9436ba8ba54d06388a2a9": {
          "model_module": "@jupyter-widgets/controls",
          "model_name": "HBoxModel",
          "state": {
            "_view_name": "HBoxView",
            "_dom_classes": [],
            "_model_name": "HBoxModel",
            "_view_module": "@jupyter-widgets/controls",
            "_model_module_version": "1.5.0",
            "_view_count": null,
            "_view_module_version": "1.5.0",
            "box_style": "",
            "layout": "IPY_MODEL_dd7ffff84dfa44f0b29e1c0e439cf420",
            "_model_module": "@jupyter-widgets/controls",
            "children": [
              "IPY_MODEL_9797d0c136504eedb9abb0ad96f2b495",
              "IPY_MODEL_d10c74baa28549b3a3ffd58f993220e1"
            ]
          }
        },
        "dd7ffff84dfa44f0b29e1c0e439cf420": {
          "model_module": "@jupyter-widgets/base",
          "model_name": "LayoutModel",
          "state": {
            "_view_name": "LayoutView",
            "grid_template_rows": null,
            "right": null,
            "justify_content": null,
            "_view_module": "@jupyter-widgets/base",
            "overflow": null,
            "_model_module_version": "1.2.0",
            "_view_count": null,
            "flex_flow": null,
            "width": null,
            "min_width": null,
            "border": null,
            "align_items": null,
            "bottom": null,
            "_model_module": "@jupyter-widgets/base",
            "top": null,
            "grid_column": null,
            "overflow_y": null,
            "overflow_x": null,
            "grid_auto_flow": null,
            "grid_area": null,
            "grid_template_columns": null,
            "flex": null,
            "_model_name": "LayoutModel",
            "justify_items": null,
            "grid_row": null,
            "max_height": null,
            "align_content": null,
            "visibility": null,
            "align_self": null,
            "height": null,
            "min_height": null,
            "padding": null,
            "grid_auto_rows": null,
            "grid_gap": null,
            "max_width": null,
            "order": null,
            "_view_module_version": "1.2.0",
            "grid_template_areas": null,
            "object_position": null,
            "object_fit": null,
            "grid_auto_columns": null,
            "margin": null,
            "display": null,
            "left": null
          }
        },
        "9797d0c136504eedb9abb0ad96f2b495": {
          "model_module": "@jupyter-widgets/controls",
          "model_name": "FloatProgressModel",
          "state": {
            "_view_name": "ProgressView",
            "style": "IPY_MODEL_33bca8a8782d4f9fabe9f8bd129b3727",
            "_dom_classes": [],
            "description": "100%",
            "_model_name": "FloatProgressModel",
            "bar_style": "success",
            "max": 202599,
            "_view_module": "@jupyter-widgets/controls",
            "_model_module_version": "1.5.0",
            "value": 202599,
            "_view_count": null,
            "_view_module_version": "1.5.0",
            "orientation": "horizontal",
            "min": 0,
            "description_tooltip": null,
            "_model_module": "@jupyter-widgets/controls",
            "layout": "IPY_MODEL_977e2e5de425417a8cd8408fda8c7e9f"
          }
        },
        "d10c74baa28549b3a3ffd58f993220e1": {
          "model_module": "@jupyter-widgets/controls",
          "model_name": "HTMLModel",
          "state": {
            "_view_name": "HTMLView",
            "style": "IPY_MODEL_03e1e9cabeed473f8b0469ee94ad3b2f",
            "_dom_classes": [],
            "description": "",
            "_model_name": "HTMLModel",
            "placeholder": "​",
            "_view_module": "@jupyter-widgets/controls",
            "_model_module_version": "1.5.0",
            "value": " 202599/202599 [00:26&lt;00:00, 7620.05it/s]",
            "_view_count": null,
            "_view_module_version": "1.5.0",
            "description_tooltip": null,
            "_model_module": "@jupyter-widgets/controls",
            "layout": "IPY_MODEL_fdda58fd134c402b84eb1910d4efacbe"
          }
        },
        "33bca8a8782d4f9fabe9f8bd129b3727": {
          "model_module": "@jupyter-widgets/controls",
          "model_name": "ProgressStyleModel",
          "state": {
            "_view_name": "StyleView",
            "_model_name": "ProgressStyleModel",
            "description_width": "initial",
            "_view_module": "@jupyter-widgets/base",
            "_model_module_version": "1.5.0",
            "_view_count": null,
            "_view_module_version": "1.2.0",
            "bar_color": null,
            "_model_module": "@jupyter-widgets/controls"
          }
        },
        "977e2e5de425417a8cd8408fda8c7e9f": {
          "model_module": "@jupyter-widgets/base",
          "model_name": "LayoutModel",
          "state": {
            "_view_name": "LayoutView",
            "grid_template_rows": null,
            "right": null,
            "justify_content": null,
            "_view_module": "@jupyter-widgets/base",
            "overflow": null,
            "_model_module_version": "1.2.0",
            "_view_count": null,
            "flex_flow": null,
            "width": null,
            "min_width": null,
            "border": null,
            "align_items": null,
            "bottom": null,
            "_model_module": "@jupyter-widgets/base",
            "top": null,
            "grid_column": null,
            "overflow_y": null,
            "overflow_x": null,
            "grid_auto_flow": null,
            "grid_area": null,
            "grid_template_columns": null,
            "flex": null,
            "_model_name": "LayoutModel",
            "justify_items": null,
            "grid_row": null,
            "max_height": null,
            "align_content": null,
            "visibility": null,
            "align_self": null,
            "height": null,
            "min_height": null,
            "padding": null,
            "grid_auto_rows": null,
            "grid_gap": null,
            "max_width": null,
            "order": null,
            "_view_module_version": "1.2.0",
            "grid_template_areas": null,
            "object_position": null,
            "object_fit": null,
            "grid_auto_columns": null,
            "margin": null,
            "display": null,
            "left": null
          }
        },
        "03e1e9cabeed473f8b0469ee94ad3b2f": {
          "model_module": "@jupyter-widgets/controls",
          "model_name": "DescriptionStyleModel",
          "state": {
            "_view_name": "StyleView",
            "_model_name": "DescriptionStyleModel",
            "description_width": "",
            "_view_module": "@jupyter-widgets/base",
            "_model_module_version": "1.5.0",
            "_view_count": null,
            "_view_module_version": "1.2.0",
            "_model_module": "@jupyter-widgets/controls"
          }
        },
        "fdda58fd134c402b84eb1910d4efacbe": {
          "model_module": "@jupyter-widgets/base",
          "model_name": "LayoutModel",
          "state": {
            "_view_name": "LayoutView",
            "grid_template_rows": null,
            "right": null,
            "justify_content": null,
            "_view_module": "@jupyter-widgets/base",
            "overflow": null,
            "_model_module_version": "1.2.0",
            "_view_count": null,
            "flex_flow": null,
            "width": null,
            "min_width": null,
            "border": null,
            "align_items": null,
            "bottom": null,
            "_model_module": "@jupyter-widgets/base",
            "top": null,
            "grid_column": null,
            "overflow_y": null,
            "overflow_x": null,
            "grid_auto_flow": null,
            "grid_area": null,
            "grid_template_columns": null,
            "flex": null,
            "_model_name": "LayoutModel",
            "justify_items": null,
            "grid_row": null,
            "max_height": null,
            "align_content": null,
            "visibility": null,
            "align_self": null,
            "height": null,
            "min_height": null,
            "padding": null,
            "grid_auto_rows": null,
            "grid_gap": null,
            "max_width": null,
            "order": null,
            "_view_module_version": "1.2.0",
            "grid_template_areas": null,
            "object_position": null,
            "object_fit": null,
            "grid_auto_columns": null,
            "margin": null,
            "display": null,
            "left": null
          }
        }
      }
    }
  },
  "cells": [
    {
      "cell_type": "code",
      "metadata": {
        "id": "a22pG0WfHuvj",
        "colab_type": "code",
        "colab": {}
      },
      "source": [
        "from google.colab import drive \n",
        "import os \n",
        "import zipfile \n",
        "\n",
        "drive.mount('/content/drive')\n",
        "path = \"/content/drive/My Drive/Copy of img_align_celeba.zip\" \n",
        "target_dir = './celebra/' \n",
        "# Unzip file to the target dir\n",
        "with zipfile.ZipFile(path, 'r') as foo:\n",
        "    print('Extraction started')\n",
        "    foo.extractall(target_dir)\n",
        "print('Done')\n",
        "\n",
        "# Extracted file\n",
        "extracted_file_path = '/content/celebra/img_align_celeba'\n",
        "file_paths = []\n",
        "for root, dirs, files in os.walk(extracted_file_path):\n",
        "    for file_ in files:\n",
        "        file_paths.append(f'{extracted_file_path}/{file_}')\n"
      ],
      "execution_count": null,
      "outputs": []
    },
    {
      "cell_type": "code",
      "metadata": {
        "id": "oeLfkyCYIMgd",
        "colab_type": "code",
        "colab": {
          "base_uri": "https://localhost:8080/",
          "height": 34
        },
        "outputId": "782f4ee2-db1c-4baf-8a19-8393566c66c2"
      },
      "source": [
        "!mkdir gray\n",
        "!ls"
      ],
      "execution_count": null,
      "outputs": [
        {
          "output_type": "stream",
          "text": [
            "celebra  drive\tgray  sample_data\n"
          ],
          "name": "stdout"
        }
      ]
    },
    {
      "cell_type": "code",
      "metadata": {
        "id": "HFM21fAqI7Fh",
        "colab_type": "code",
        "colab": {
          "base_uri": "https://localhost:8080/",
          "height": 54
        },
        "outputId": "6cc50150-1123-4804-dc08-9f51a1f17b2e"
      },
      "source": [
        "# Make resized path filenames for saving processed data\n",
        "resized_paths = [f'./gray/celeb_160_gray_{path[-10:]}' for path in file_paths]\n",
        "resized_paths.sort()\n",
        "print(resized_paths[:100])"
      ],
      "execution_count": null,
      "outputs": [
        {
          "output_type": "stream",
          "text": [
            "['./gray/celeb_160_gray_000001.jpg', './gray/celeb_160_gray_000002.jpg', './gray/celeb_160_gray_000003.jpg', './gray/celeb_160_gray_000004.jpg', './gray/celeb_160_gray_000005.jpg', './gray/celeb_160_gray_000006.jpg', './gray/celeb_160_gray_000007.jpg', './gray/celeb_160_gray_000008.jpg', './gray/celeb_160_gray_000009.jpg', './gray/celeb_160_gray_000010.jpg', './gray/celeb_160_gray_000011.jpg', './gray/celeb_160_gray_000012.jpg', './gray/celeb_160_gray_000013.jpg', './gray/celeb_160_gray_000014.jpg', './gray/celeb_160_gray_000015.jpg', './gray/celeb_160_gray_000016.jpg', './gray/celeb_160_gray_000017.jpg', './gray/celeb_160_gray_000018.jpg', './gray/celeb_160_gray_000019.jpg', './gray/celeb_160_gray_000020.jpg', './gray/celeb_160_gray_000021.jpg', './gray/celeb_160_gray_000022.jpg', './gray/celeb_160_gray_000023.jpg', './gray/celeb_160_gray_000024.jpg', './gray/celeb_160_gray_000025.jpg', './gray/celeb_160_gray_000026.jpg', './gray/celeb_160_gray_000027.jpg', './gray/celeb_160_gray_000028.jpg', './gray/celeb_160_gray_000029.jpg', './gray/celeb_160_gray_000030.jpg', './gray/celeb_160_gray_000031.jpg', './gray/celeb_160_gray_000032.jpg', './gray/celeb_160_gray_000033.jpg', './gray/celeb_160_gray_000034.jpg', './gray/celeb_160_gray_000035.jpg', './gray/celeb_160_gray_000036.jpg', './gray/celeb_160_gray_000037.jpg', './gray/celeb_160_gray_000038.jpg', './gray/celeb_160_gray_000039.jpg', './gray/celeb_160_gray_000040.jpg', './gray/celeb_160_gray_000041.jpg', './gray/celeb_160_gray_000042.jpg', './gray/celeb_160_gray_000043.jpg', './gray/celeb_160_gray_000044.jpg', './gray/celeb_160_gray_000045.jpg', './gray/celeb_160_gray_000046.jpg', './gray/celeb_160_gray_000047.jpg', './gray/celeb_160_gray_000048.jpg', './gray/celeb_160_gray_000049.jpg', './gray/celeb_160_gray_000050.jpg', './gray/celeb_160_gray_000051.jpg', './gray/celeb_160_gray_000052.jpg', './gray/celeb_160_gray_000053.jpg', './gray/celeb_160_gray_000054.jpg', './gray/celeb_160_gray_000055.jpg', './gray/celeb_160_gray_000056.jpg', './gray/celeb_160_gray_000057.jpg', './gray/celeb_160_gray_000058.jpg', './gray/celeb_160_gray_000059.jpg', './gray/celeb_160_gray_000060.jpg', './gray/celeb_160_gray_000061.jpg', './gray/celeb_160_gray_000062.jpg', './gray/celeb_160_gray_000063.jpg', './gray/celeb_160_gray_000064.jpg', './gray/celeb_160_gray_000065.jpg', './gray/celeb_160_gray_000066.jpg', './gray/celeb_160_gray_000067.jpg', './gray/celeb_160_gray_000068.jpg', './gray/celeb_160_gray_000069.jpg', './gray/celeb_160_gray_000070.jpg', './gray/celeb_160_gray_000071.jpg', './gray/celeb_160_gray_000072.jpg', './gray/celeb_160_gray_000073.jpg', './gray/celeb_160_gray_000074.jpg', './gray/celeb_160_gray_000075.jpg', './gray/celeb_160_gray_000076.jpg', './gray/celeb_160_gray_000077.jpg', './gray/celeb_160_gray_000078.jpg', './gray/celeb_160_gray_000079.jpg', './gray/celeb_160_gray_000080.jpg', './gray/celeb_160_gray_000081.jpg', './gray/celeb_160_gray_000082.jpg', './gray/celeb_160_gray_000083.jpg', './gray/celeb_160_gray_000084.jpg', './gray/celeb_160_gray_000085.jpg', './gray/celeb_160_gray_000086.jpg', './gray/celeb_160_gray_000087.jpg', './gray/celeb_160_gray_000088.jpg', './gray/celeb_160_gray_000089.jpg', './gray/celeb_160_gray_000090.jpg', './gray/celeb_160_gray_000091.jpg', './gray/celeb_160_gray_000092.jpg', './gray/celeb_160_gray_000093.jpg', './gray/celeb_160_gray_000094.jpg', './gray/celeb_160_gray_000095.jpg', './gray/celeb_160_gray_000096.jpg', './gray/celeb_160_gray_000097.jpg', './gray/celeb_160_gray_000098.jpg', './gray/celeb_160_gray_000099.jpg', './gray/celeb_160_gray_000100.jpg']\n"
          ],
          "name": "stdout"
        }
      ]
    },
    {
      "cell_type": "code",
      "metadata": {
        "id": "qAZBBM8LIQjG",
        "colab_type": "code",
        "colab": {}
      },
      "source": [
        "# Crop and resize and write to the machine\n",
        "from tqdm.notebook import tqdm\n",
        "import cv2\n",
        "import numpy as np \n",
        "\n",
        "file_paths.sort()\n",
        "count=0\n",
        "for path in tqdm(file_paths):\n",
        "    img = cv2.imread(path)\n",
        "    gray = cv2.cvtColor(img, cv2.COLOR_BGR2GRAY) # Grayscale\n",
        "    rgb = np.asarray(gray)\n",
        "    rgb = rgb[20:(218-20), 0:178]\n",
        "    resized = cv2.resize(rgb, (160, 160))\n",
        "    cv2.imwrite(resized_paths[count], resized)\n",
        "    count+=1"
      ],
      "execution_count": null,
      "outputs": []
    },
    {
      "cell_type": "code",
      "metadata": {
        "id": "pdaUxFBRLr53",
        "colab_type": "code",
        "colab": {
          "base_uri": "https://localhost:8080/",
          "height": 286
        },
        "outputId": "7f641cb7-ecd7-4ae4-e452-0ac457b56d24"
      },
      "source": [
        "for roots, dirs, files in os.walk(f'./gray'):\n",
        "    resized_paths = []\n",
        "    for file_ in files:\n",
        "        resized_paths.append(f'./gray/{file_}')\n",
        "resized_paths.sort()\n",
        "import matplotlib.pyplot as plt \n",
        "img = cv2.imread(resized_paths[7], 0)\n",
        "print(img.shape)\n",
        "plt.imshow(1- img/255, cmap = 'binary')\n",
        "plt.show()"
      ],
      "execution_count": null,
      "outputs": [
        {
          "output_type": "stream",
          "text": [
            "(160, 160)\n"
          ],
          "name": "stdout"
        },
        {
          "output_type": "display_data",
          "data": {
            "image/png": "[encoded data removed]",
            "text/plain": [
              "<Figure size 432x288 with 1 Axes>"
            ]
          },
          "metadata": {
            "tags": [],
            "needs_background": "light"
          }
        }
      ]
    },
    {
      "cell_type": "code",
      "metadata": {
        "id": "rgZ4APBOKqDF",
        "colab_type": "code",
        "colab": {
          "base_uri": "https://localhost:8080/",
          "height": 100,
          "referenced_widgets": [
            "9da22a5758e9436ba8ba54d06388a2a9",
            "dd7ffff84dfa44f0b29e1c0e439cf420",
            "9797d0c136504eedb9abb0ad96f2b495",
            "d10c74baa28549b3a3ffd58f993220e1",
            "33bca8a8782d4f9fabe9f8bd129b3727",
            "977e2e5de425417a8cd8408fda8c7e9f",
            "03e1e9cabeed473f8b0469ee94ad3b2f",
            "fdda58fd134c402b84eb1910d4efacbe"
          ]
        },
        "outputId": "7989b10a-2846-482e-d0aa-966fb6eae8b2"
      },
      "source": [
        "from zipfile import ZipFile\n",
        "# zip the preprocessed images into a zip file \n",
        "zip_name = f'./CELEB_160_gray.zip'\n",
        "with ZipFile(zip_name, 'w') as zipper:\n",
        "    print(f'Zipping started')\n",
        "    for path in tqdm(resized_paths):\n",
        "        zipper.write(path)\n",
        "print('Done')"
      ],
      "execution_count": null,
      "outputs": [
        {
          "output_type": "stream",
          "text": [
            "Zipping started\n"
          ],
          "name": "stdout"
        },
        {
          "output_type": "display_data",
          "data": {
            "application/vnd.jupyter.widget-view+json": {
              "model_id": "9da22a5758e9436ba8ba54d06388a2a9",
              "version_minor": 0,
              "version_major": 2
            },
            "text/plain": [
              "HBox(children=(FloatProgress(value=0.0, max=202599.0), HTML(value='')))"
            ]
          },
          "metadata": {
            "tags": []
          }
        },
        {
          "output_type": "stream",
          "text": [
            "\n",
            "Done\n"
          ],
          "name": "stdout"
        }
      ]
    },
    {
      "cell_type": "code",
      "metadata": {
        "id": "bj4ULZy7N6_V",
        "colab_type": "code",
        "colab": {
          "base_uri": "https://localhost:8080/",
          "height": 34
        },
        "outputId": "91a3ec71-8723-40b2-92ff-d1bf96189b8f"
      },
      "source": [
        "!ls"
      ],
      "execution_count": null,
      "outputs": [
        {
          "output_type": "stream",
          "text": [
            "CELEB_160_gray.zip  celebra  drive  gray  sample_data\n"
          ],
          "name": "stdout"
        }
      ]
    },
    {
      "cell_type": "code",
      "metadata": {
        "id": "vgGX8Aa1M0Cs",
        "colab_type": "code",
        "colab": {
          "base_uri": "https://localhost:8080/",
          "height": 34
        },
        "outputId": "18fc89c1-aba9-47f1-bb1f-729dbc245152"
      },
      "source": [
        "# Copy/Move the zip file to you drive for training.\n",
        "!cp /content/CELEB_160_gray.zip /content/drive/'My Drive'/\n",
        "print('Moved')"
      ],
      "execution_count": null,
      "outputs": [
        {
          "output_type": "stream",
          "text": [
            "Moved\n"
          ],
          "name": "stdout"
        }
      ]
    }
  ]
}